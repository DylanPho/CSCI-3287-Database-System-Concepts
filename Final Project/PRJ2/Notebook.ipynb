{
 "cells": [
  {
   "cell_type": "code",
   "execution_count": 1,
   "id": "81a46889-2790-4c67-9f1d-cc4393e41675",
   "metadata": {},
   "outputs": [],
   "source": [
    "import pandas as pd\n",
    "import numpy  as np"
   ]
  },
  {
   "cell_type": "code",
   "execution_count": 2,
   "id": "3237df8a-a1e3-4c14-94b8-5f283b9ccd98",
   "metadata": {},
   "outputs": [],
   "source": [
    "data = pd.read_csv('Crime_Data_from_2020_to_Present.csv', dtype=str, na_values='')"
   ]
  },
  {
   "cell_type": "code",
   "execution_count": 3,
   "id": "378c37e6-b876-4cbb-a471-d26d22fdfca3",
   "metadata": {},
   "outputs": [],
   "source": [
    "df = pd.DataFrame(data)"
   ]
  },
  {
   "cell_type": "code",
   "execution_count": 4,
   "id": "89a44cb8-e89a-4143-8fc9-78bef188ff0c",
   "metadata": {},
   "outputs": [
    {
     "data": {
      "text/plain": [
       "(1005199, 28)"
      ]
     },
     "execution_count": 4,
     "metadata": {},
     "output_type": "execute_result"
    }
   ],
   "source": [
    "df.shape"
   ]
  },
  {
   "cell_type": "code",
   "execution_count": 5,
   "id": "066a7fca-2656-4198-97b9-4da2bf903073",
   "metadata": {
    "jp-MarkdownHeadingCollapsed": true
   },
   "outputs": [
    {
     "name": "stdout",
     "output_type": "stream",
     "text": [
      "DR_NO             object\n",
      "Date Rptd         object\n",
      "DATE OCC          object\n",
      "TIME OCC          object\n",
      "AREA              object\n",
      "AREA NAME         object\n",
      "Rpt Dist No       object\n",
      "Part 1-2          object\n",
      "Crm Cd            object\n",
      "Crm Cd Desc       object\n",
      "Mocodes           object\n",
      "Vict Age          object\n",
      "Vict Sex          object\n",
      "Vict Descent      object\n",
      "Premis Cd         object\n",
      "Premis Desc       object\n",
      "Weapon Used Cd    object\n",
      "Weapon Desc       object\n",
      "Status            object\n",
      "Status Desc       object\n",
      "Crm Cd 1          object\n",
      "Crm Cd 2          object\n",
      "Crm Cd 3          object\n",
      "Crm Cd 4          object\n",
      "LOCATION          object\n",
      "Cross Street      object\n",
      "LAT               object\n",
      "LON               object\n",
      "dtype: object\n"
     ]
    }
   ],
   "source": [
    "print(df.dtypes)"
   ]
  },
  {
   "cell_type": "code",
   "execution_count": 6,
   "id": "1d704435-a0d9-4258-8ebf-c8bd24f8cdce",
   "metadata": {},
   "outputs": [
    {
     "data": {
      "text/plain": [
       "AREA\n",
       "01    69673\n",
       "02    46826\n",
       "03    57512\n",
       "04    37097\n",
       "05    41462\n",
       "06    52430\n",
       "07    48240\n",
       "08    45731\n",
       "09    42883\n",
       "10    42157\n",
       "11    42962\n",
       "12    61762\n",
       "13    49181\n",
       "14    59521\n",
       "15    51107\n",
       "16    33136\n",
       "17    41766\n",
       "18    49941\n",
       "19    40365\n",
       "20    50071\n",
       "21    41376\n",
       "Name: count, dtype: int64"
      ]
     },
     "execution_count": 6,
     "metadata": {},
     "output_type": "execute_result"
    }
   ],
   "source": [
    "df['AREA'].value_counts(dropna=False).sort_index()"
   ]
  },
  {
   "cell_type": "markdown",
   "id": "f1382438-826e-4362-ab29-16b0b6912029",
   "metadata": {},
   "source": [
    "### Lookup Tables"
   ]
  },
  {
   "cell_type": "code",
   "execution_count": 7,
   "id": "da5529be-5765-4994-80b6-9335b4057052",
   "metadata": {},
   "outputs": [],
   "source": [
    "area = df[['AREA', 'AREA NAME']].drop_duplicates().sort_values(by='AREA').dropna(how='all').reset_index(drop=True)"
   ]
  },
  {
   "cell_type": "code",
   "execution_count": 8,
   "id": "4f80bdae-f7d5-404e-8a55-9b9f6163e314",
   "metadata": {},
   "outputs": [
    {
     "data": {
      "text/html": [
       "<div>\n",
       "<style scoped>\n",
       "    .dataframe tbody tr th:only-of-type {\n",
       "        vertical-align: middle;\n",
       "    }\n",
       "\n",
       "    .dataframe tbody tr th {\n",
       "        vertical-align: top;\n",
       "    }\n",
       "\n",
       "    .dataframe thead th {\n",
       "        text-align: right;\n",
       "    }\n",
       "</style>\n",
       "<table border=\"1\" class=\"dataframe\">\n",
       "  <thead>\n",
       "    <tr style=\"text-align: right;\">\n",
       "      <th></th>\n",
       "      <th>AREA</th>\n",
       "      <th>AREA NAME</th>\n",
       "    </tr>\n",
       "  </thead>\n",
       "  <tbody>\n",
       "    <tr>\n",
       "      <th>0</th>\n",
       "      <td>01</td>\n",
       "      <td>Central</td>\n",
       "    </tr>\n",
       "    <tr>\n",
       "      <th>1</th>\n",
       "      <td>02</td>\n",
       "      <td>Rampart</td>\n",
       "    </tr>\n",
       "    <tr>\n",
       "      <th>2</th>\n",
       "      <td>03</td>\n",
       "      <td>Southwest</td>\n",
       "    </tr>\n",
       "    <tr>\n",
       "      <th>3</th>\n",
       "      <td>04</td>\n",
       "      <td>Hollenbeck</td>\n",
       "    </tr>\n",
       "    <tr>\n",
       "      <th>4</th>\n",
       "      <td>05</td>\n",
       "      <td>Harbor</td>\n",
       "    </tr>\n",
       "    <tr>\n",
       "      <th>5</th>\n",
       "      <td>06</td>\n",
       "      <td>Hollywood</td>\n",
       "    </tr>\n",
       "    <tr>\n",
       "      <th>6</th>\n",
       "      <td>07</td>\n",
       "      <td>Wilshire</td>\n",
       "    </tr>\n",
       "    <tr>\n",
       "      <th>7</th>\n",
       "      <td>08</td>\n",
       "      <td>West LA</td>\n",
       "    </tr>\n",
       "    <tr>\n",
       "      <th>8</th>\n",
       "      <td>09</td>\n",
       "      <td>Van Nuys</td>\n",
       "    </tr>\n",
       "    <tr>\n",
       "      <th>9</th>\n",
       "      <td>10</td>\n",
       "      <td>West Valley</td>\n",
       "    </tr>\n",
       "    <tr>\n",
       "      <th>10</th>\n",
       "      <td>11</td>\n",
       "      <td>Northeast</td>\n",
       "    </tr>\n",
       "    <tr>\n",
       "      <th>11</th>\n",
       "      <td>12</td>\n",
       "      <td>77th Street</td>\n",
       "    </tr>\n",
       "    <tr>\n",
       "      <th>12</th>\n",
       "      <td>13</td>\n",
       "      <td>Newton</td>\n",
       "    </tr>\n",
       "    <tr>\n",
       "      <th>13</th>\n",
       "      <td>14</td>\n",
       "      <td>Pacific</td>\n",
       "    </tr>\n",
       "    <tr>\n",
       "      <th>14</th>\n",
       "      <td>15</td>\n",
       "      <td>N Hollywood</td>\n",
       "    </tr>\n",
       "    <tr>\n",
       "      <th>15</th>\n",
       "      <td>16</td>\n",
       "      <td>Foothill</td>\n",
       "    </tr>\n",
       "    <tr>\n",
       "      <th>16</th>\n",
       "      <td>17</td>\n",
       "      <td>Devonshire</td>\n",
       "    </tr>\n",
       "    <tr>\n",
       "      <th>17</th>\n",
       "      <td>18</td>\n",
       "      <td>Southeast</td>\n",
       "    </tr>\n",
       "    <tr>\n",
       "      <th>18</th>\n",
       "      <td>19</td>\n",
       "      <td>Mission</td>\n",
       "    </tr>\n",
       "    <tr>\n",
       "      <th>19</th>\n",
       "      <td>20</td>\n",
       "      <td>Olympic</td>\n",
       "    </tr>\n",
       "    <tr>\n",
       "      <th>20</th>\n",
       "      <td>21</td>\n",
       "      <td>Topanga</td>\n",
       "    </tr>\n",
       "  </tbody>\n",
       "</table>\n",
       "</div>"
      ],
      "text/plain": [
       "   AREA    AREA NAME\n",
       "0    01      Central\n",
       "1    02      Rampart\n",
       "2    03    Southwest\n",
       "3    04   Hollenbeck\n",
       "4    05       Harbor\n",
       "5    06    Hollywood\n",
       "6    07     Wilshire\n",
       "7    08      West LA\n",
       "8    09     Van Nuys\n",
       "9    10  West Valley\n",
       "10   11    Northeast\n",
       "11   12  77th Street\n",
       "12   13       Newton\n",
       "13   14      Pacific\n",
       "14   15  N Hollywood\n",
       "15   16     Foothill\n",
       "16   17   Devonshire\n",
       "17   18    Southeast\n",
       "18   19      Mission\n",
       "19   20      Olympic\n",
       "20   21      Topanga"
      ]
     },
     "execution_count": 8,
     "metadata": {},
     "output_type": "execute_result"
    }
   ],
   "source": [
    "area"
   ]
  },
  {
   "cell_type": "code",
   "execution_count": 9,
   "id": "38d034d0-7367-42b0-a335-97b8c84f12d5",
   "metadata": {},
   "outputs": [],
   "source": [
    "premis = df[['Premis Cd', 'Premis Desc']].drop_duplicates().sort_values(by='Premis Cd').dropna(how='all').reset_index(drop=True)"
   ]
  },
  {
   "cell_type": "code",
   "execution_count": 10,
   "id": "d288c0a0-8144-46f0-b0f3-4fa6ead7a3cc",
   "metadata": {},
   "outputs": [
    {
     "data": {
      "text/html": [
       "<div>\n",
       "<style scoped>\n",
       "    .dataframe tbody tr th:only-of-type {\n",
       "        vertical-align: middle;\n",
       "    }\n",
       "\n",
       "    .dataframe tbody tr th {\n",
       "        vertical-align: top;\n",
       "    }\n",
       "\n",
       "    .dataframe thead th {\n",
       "        text-align: right;\n",
       "    }\n",
       "</style>\n",
       "<table border=\"1\" class=\"dataframe\">\n",
       "  <thead>\n",
       "    <tr style=\"text-align: right;\">\n",
       "      <th></th>\n",
       "      <th>Premis Cd</th>\n",
       "      <th>Premis Desc</th>\n",
       "    </tr>\n",
       "  </thead>\n",
       "  <tbody>\n",
       "    <tr>\n",
       "      <th>0</th>\n",
       "      <td>101</td>\n",
       "      <td>STREET</td>\n",
       "    </tr>\n",
       "    <tr>\n",
       "      <th>1</th>\n",
       "      <td>102</td>\n",
       "      <td>SIDEWALK</td>\n",
       "    </tr>\n",
       "    <tr>\n",
       "      <th>2</th>\n",
       "      <td>103</td>\n",
       "      <td>ALLEY</td>\n",
       "    </tr>\n",
       "    <tr>\n",
       "      <th>3</th>\n",
       "      <td>104</td>\n",
       "      <td>DRIVEWAY</td>\n",
       "    </tr>\n",
       "    <tr>\n",
       "      <th>4</th>\n",
       "      <td>105</td>\n",
       "      <td>PEDESTRIAN OVERCROSSING</td>\n",
       "    </tr>\n",
       "    <tr>\n",
       "      <th>...</th>\n",
       "      <td>...</td>\n",
       "      <td>...</td>\n",
       "    </tr>\n",
       "    <tr>\n",
       "      <th>309</th>\n",
       "      <td>972</td>\n",
       "      <td>NaN</td>\n",
       "    </tr>\n",
       "    <tr>\n",
       "      <th>310</th>\n",
       "      <td>973</td>\n",
       "      <td>NaN</td>\n",
       "    </tr>\n",
       "    <tr>\n",
       "      <th>311</th>\n",
       "      <td>974</td>\n",
       "      <td>NaN</td>\n",
       "    </tr>\n",
       "    <tr>\n",
       "      <th>312</th>\n",
       "      <td>975</td>\n",
       "      <td>NaN</td>\n",
       "    </tr>\n",
       "    <tr>\n",
       "      <th>313</th>\n",
       "      <td>976</td>\n",
       "      <td>NaN</td>\n",
       "    </tr>\n",
       "  </tbody>\n",
       "</table>\n",
       "<p>314 rows × 2 columns</p>\n",
       "</div>"
      ],
      "text/plain": [
       "    Premis Cd              Premis Desc\n",
       "0         101                   STREET\n",
       "1         102                 SIDEWALK\n",
       "2         103                    ALLEY\n",
       "3         104                 DRIVEWAY\n",
       "4         105  PEDESTRIAN OVERCROSSING\n",
       "..        ...                      ...\n",
       "309       972                      NaN\n",
       "310       973                      NaN\n",
       "311       974                      NaN\n",
       "312       975                      NaN\n",
       "313       976                      NaN\n",
       "\n",
       "[314 rows x 2 columns]"
      ]
     },
     "execution_count": 10,
     "metadata": {},
     "output_type": "execute_result"
    }
   ],
   "source": [
    "premis"
   ]
  },
  {
   "cell_type": "code",
   "execution_count": 11,
   "id": "65bad630-d911-4a2a-b384-b4458ae1f101",
   "metadata": {},
   "outputs": [],
   "source": [
    "weapon = df[['Weapon Used Cd', 'Weapon Desc']].drop_duplicates().sort_values(by='Weapon Used Cd').dropna(how='all').reset_index(drop=True)"
   ]
  },
  {
   "cell_type": "code",
   "execution_count": 12,
   "id": "80d69da4-37e5-44a2-8386-5631a1d298d8",
   "metadata": {},
   "outputs": [
    {
     "data": {
      "text/html": [
       "<div>\n",
       "<style scoped>\n",
       "    .dataframe tbody tr th:only-of-type {\n",
       "        vertical-align: middle;\n",
       "    }\n",
       "\n",
       "    .dataframe tbody tr th {\n",
       "        vertical-align: top;\n",
       "    }\n",
       "\n",
       "    .dataframe thead th {\n",
       "        text-align: right;\n",
       "    }\n",
       "</style>\n",
       "<table border=\"1\" class=\"dataframe\">\n",
       "  <thead>\n",
       "    <tr style=\"text-align: right;\">\n",
       "      <th></th>\n",
       "      <th>Weapon Used Cd</th>\n",
       "      <th>Weapon Desc</th>\n",
       "    </tr>\n",
       "  </thead>\n",
       "  <tbody>\n",
       "    <tr>\n",
       "      <th>0</th>\n",
       "      <td>101</td>\n",
       "      <td>REVOLVER</td>\n",
       "    </tr>\n",
       "    <tr>\n",
       "      <th>1</th>\n",
       "      <td>102</td>\n",
       "      <td>HAND GUN</td>\n",
       "    </tr>\n",
       "    <tr>\n",
       "      <th>2</th>\n",
       "      <td>103</td>\n",
       "      <td>RIFLE</td>\n",
       "    </tr>\n",
       "    <tr>\n",
       "      <th>3</th>\n",
       "      <td>104</td>\n",
       "      <td>SHOTGUN</td>\n",
       "    </tr>\n",
       "    <tr>\n",
       "      <th>4</th>\n",
       "      <td>105</td>\n",
       "      <td>SAWED OFF RIFLE/SHOTGUN</td>\n",
       "    </tr>\n",
       "    <tr>\n",
       "      <th>...</th>\n",
       "      <td>...</td>\n",
       "      <td>...</td>\n",
       "    </tr>\n",
       "    <tr>\n",
       "      <th>74</th>\n",
       "      <td>512</td>\n",
       "      <td>MACE/PEPPER SPRAY</td>\n",
       "    </tr>\n",
       "    <tr>\n",
       "      <th>75</th>\n",
       "      <td>513</td>\n",
       "      <td>STUN GUN</td>\n",
       "    </tr>\n",
       "    <tr>\n",
       "      <th>76</th>\n",
       "      <td>514</td>\n",
       "      <td>TIRE IRON</td>\n",
       "    </tr>\n",
       "    <tr>\n",
       "      <th>77</th>\n",
       "      <td>515</td>\n",
       "      <td>PHYSICAL PRESENCE</td>\n",
       "    </tr>\n",
       "    <tr>\n",
       "      <th>78</th>\n",
       "      <td>516</td>\n",
       "      <td>DOG/ANIMAL (SIC ANIMAL ON)</td>\n",
       "    </tr>\n",
       "  </tbody>\n",
       "</table>\n",
       "<p>79 rows × 2 columns</p>\n",
       "</div>"
      ],
      "text/plain": [
       "   Weapon Used Cd                 Weapon Desc\n",
       "0             101                    REVOLVER\n",
       "1             102                    HAND GUN\n",
       "2             103                       RIFLE\n",
       "3             104                     SHOTGUN\n",
       "4             105     SAWED OFF RIFLE/SHOTGUN\n",
       "..            ...                         ...\n",
       "74            512           MACE/PEPPER SPRAY\n",
       "75            513                    STUN GUN\n",
       "76            514                   TIRE IRON\n",
       "77            515           PHYSICAL PRESENCE\n",
       "78            516  DOG/ANIMAL (SIC ANIMAL ON)\n",
       "\n",
       "[79 rows x 2 columns]"
      ]
     },
     "execution_count": 12,
     "metadata": {},
     "output_type": "execute_result"
    }
   ],
   "source": [
    "weapon"
   ]
  },
  {
   "cell_type": "code",
   "execution_count": 13,
   "id": "b3e451ee-f71b-4e29-9b73-4c9807d771ed",
   "metadata": {},
   "outputs": [],
   "source": [
    "status = df[['Status', 'Status Desc']].drop_duplicates().sort_values(by='Status').dropna(how='all').reset_index(drop=True)"
   ]
  },
  {
   "cell_type": "code",
   "execution_count": 14,
   "id": "c340ac5d-74db-4516-a8b8-11a16308d254",
   "metadata": {},
   "outputs": [
    {
     "data": {
      "text/html": [
       "<div>\n",
       "<style scoped>\n",
       "    .dataframe tbody tr th:only-of-type {\n",
       "        vertical-align: middle;\n",
       "    }\n",
       "\n",
       "    .dataframe tbody tr th {\n",
       "        vertical-align: top;\n",
       "    }\n",
       "\n",
       "    .dataframe thead th {\n",
       "        text-align: right;\n",
       "    }\n",
       "</style>\n",
       "<table border=\"1\" class=\"dataframe\">\n",
       "  <thead>\n",
       "    <tr style=\"text-align: right;\">\n",
       "      <th></th>\n",
       "      <th>Status</th>\n",
       "      <th>Status Desc</th>\n",
       "    </tr>\n",
       "  </thead>\n",
       "  <tbody>\n",
       "    <tr>\n",
       "      <th>0</th>\n",
       "      <td>AA</td>\n",
       "      <td>Adult Arrest</td>\n",
       "    </tr>\n",
       "    <tr>\n",
       "      <th>1</th>\n",
       "      <td>AO</td>\n",
       "      <td>Adult Other</td>\n",
       "    </tr>\n",
       "    <tr>\n",
       "      <th>2</th>\n",
       "      <td>CC</td>\n",
       "      <td>UNK</td>\n",
       "    </tr>\n",
       "    <tr>\n",
       "      <th>3</th>\n",
       "      <td>IC</td>\n",
       "      <td>Invest Cont</td>\n",
       "    </tr>\n",
       "    <tr>\n",
       "      <th>4</th>\n",
       "      <td>JA</td>\n",
       "      <td>Juv Arrest</td>\n",
       "    </tr>\n",
       "    <tr>\n",
       "      <th>5</th>\n",
       "      <td>JO</td>\n",
       "      <td>Juv Other</td>\n",
       "    </tr>\n",
       "    <tr>\n",
       "      <th>6</th>\n",
       "      <td>NaN</td>\n",
       "      <td>UNK</td>\n",
       "    </tr>\n",
       "  </tbody>\n",
       "</table>\n",
       "</div>"
      ],
      "text/plain": [
       "  Status   Status Desc\n",
       "0     AA  Adult Arrest\n",
       "1     AO   Adult Other\n",
       "2     CC           UNK\n",
       "3     IC   Invest Cont\n",
       "4     JA    Juv Arrest\n",
       "5     JO     Juv Other\n",
       "6    NaN           UNK"
      ]
     },
     "execution_count": 14,
     "metadata": {},
     "output_type": "execute_result"
    }
   ],
   "source": [
    "status"
   ]
  },
  {
   "cell_type": "code",
   "execution_count": 15,
   "id": "670cb678-1678-452a-ac0d-57fa90602f14",
   "metadata": {},
   "outputs": [],
   "source": [
    "crm_data = df[['Crm Cd', 'Crm Cd Desc', 'Part 1-2']].drop_duplicates().sort_values(by='Crm Cd').dropna(how='all').reset_index(drop=True)"
   ]
  },
  {
   "cell_type": "code",
   "execution_count": 16,
   "id": "2aea2ef0-05c5-4de5-b918-b61e020a0bab",
   "metadata": {},
   "outputs": [
    {
     "data": {
      "text/html": [
       "<div>\n",
       "<style scoped>\n",
       "    .dataframe tbody tr th:only-of-type {\n",
       "        vertical-align: middle;\n",
       "    }\n",
       "\n",
       "    .dataframe tbody tr th {\n",
       "        vertical-align: top;\n",
       "    }\n",
       "\n",
       "    .dataframe thead th {\n",
       "        text-align: right;\n",
       "    }\n",
       "</style>\n",
       "<table border=\"1\" class=\"dataframe\">\n",
       "  <thead>\n",
       "    <tr style=\"text-align: right;\">\n",
       "      <th></th>\n",
       "      <th>Crm Cd</th>\n",
       "      <th>Crm Cd Desc</th>\n",
       "      <th>Part 1-2</th>\n",
       "    </tr>\n",
       "  </thead>\n",
       "  <tbody>\n",
       "    <tr>\n",
       "      <th>0</th>\n",
       "      <td>110</td>\n",
       "      <td>CRIMINAL HOMICIDE</td>\n",
       "      <td>1</td>\n",
       "    </tr>\n",
       "    <tr>\n",
       "      <th>1</th>\n",
       "      <td>113</td>\n",
       "      <td>MANSLAUGHTER, NEGLIGENT</td>\n",
       "      <td>1</td>\n",
       "    </tr>\n",
       "    <tr>\n",
       "      <th>2</th>\n",
       "      <td>121</td>\n",
       "      <td>RAPE, FORCIBLE</td>\n",
       "      <td>1</td>\n",
       "    </tr>\n",
       "    <tr>\n",
       "      <th>3</th>\n",
       "      <td>122</td>\n",
       "      <td>RAPE, ATTEMPTED</td>\n",
       "      <td>1</td>\n",
       "    </tr>\n",
       "    <tr>\n",
       "      <th>4</th>\n",
       "      <td>210</td>\n",
       "      <td>ROBBERY</td>\n",
       "      <td>1</td>\n",
       "    </tr>\n",
       "    <tr>\n",
       "      <th>...</th>\n",
       "      <td>...</td>\n",
       "      <td>...</td>\n",
       "      <td>...</td>\n",
       "    </tr>\n",
       "    <tr>\n",
       "      <th>135</th>\n",
       "      <td>949</td>\n",
       "      <td>ILLEGAL DUMPING</td>\n",
       "      <td>2</td>\n",
       "    </tr>\n",
       "    <tr>\n",
       "      <th>136</th>\n",
       "      <td>950</td>\n",
       "      <td>DEFRAUDING INNKEEPER/THEFT OF SERVICES, OVER $...</td>\n",
       "      <td>2</td>\n",
       "    </tr>\n",
       "    <tr>\n",
       "      <th>137</th>\n",
       "      <td>951</td>\n",
       "      <td>DEFRAUDING INNKEEPER/THEFT OF SERVICES, $950 &amp;...</td>\n",
       "      <td>2</td>\n",
       "    </tr>\n",
       "    <tr>\n",
       "      <th>138</th>\n",
       "      <td>954</td>\n",
       "      <td>CONTRIBUTING</td>\n",
       "      <td>2</td>\n",
       "    </tr>\n",
       "    <tr>\n",
       "      <th>139</th>\n",
       "      <td>956</td>\n",
       "      <td>LETTERS, LEWD  -  TELEPHONE CALLS, LEWD</td>\n",
       "      <td>2</td>\n",
       "    </tr>\n",
       "  </tbody>\n",
       "</table>\n",
       "<p>140 rows × 3 columns</p>\n",
       "</div>"
      ],
      "text/plain": [
       "    Crm Cd                                        Crm Cd Desc Part 1-2\n",
       "0      110                                  CRIMINAL HOMICIDE        1\n",
       "1      113                            MANSLAUGHTER, NEGLIGENT        1\n",
       "2      121                                     RAPE, FORCIBLE        1\n",
       "3      122                                    RAPE, ATTEMPTED        1\n",
       "4      210                                            ROBBERY        1\n",
       "..     ...                                                ...      ...\n",
       "135    949                                    ILLEGAL DUMPING        2\n",
       "136    950  DEFRAUDING INNKEEPER/THEFT OF SERVICES, OVER $...        2\n",
       "137    951  DEFRAUDING INNKEEPER/THEFT OF SERVICES, $950 &...        2\n",
       "138    954                                       CONTRIBUTING        2\n",
       "139    956            LETTERS, LEWD  -  TELEPHONE CALLS, LEWD        2\n",
       "\n",
       "[140 rows x 3 columns]"
      ]
     },
     "execution_count": 16,
     "metadata": {},
     "output_type": "execute_result"
    }
   ],
   "source": [
    "crm_data"
   ]
  },
  {
   "cell_type": "markdown",
   "id": "71a1e033-c287-4524-89dc-d22786c791cb",
   "metadata": {},
   "source": [
    "### Combine Crm Cd 1-4"
   ]
  },
  {
   "cell_type": "code",
   "execution_count": 17,
   "id": "72c3447c-5ea4-47ac-8540-afe17ad12eb7",
   "metadata": {},
   "outputs": [],
   "source": [
    "combined_crms = pd.concat([df['Crm Cd 1'], df['Crm Cd 2'], df['Crm Cd 3'],df['Crm Cd 4']]).drop_duplicates().dropna(how='all').sort_values().reset_index(drop=True)"
   ]
  },
  {
   "cell_type": "code",
   "execution_count": 18,
   "id": "8b4b837d-c510-4820-a1f5-00af7b5105a4",
   "metadata": {},
   "outputs": [],
   "source": [
    "crm_levels = pd.DataFrame(combined_crms, columns=['Crm Cd'])"
   ]
  },
  {
   "cell_type": "markdown",
   "id": "cb6b1de7-aff0-4947-a716-580f2bd2b436",
   "metadata": {},
   "source": [
    "### Left merge crime from levels and crime codes"
   ]
  },
  {
   "cell_type": "code",
   "execution_count": 19,
   "id": "f45a83f2-d16f-42fc-acc4-30dd7f8a8628",
   "metadata": {},
   "outputs": [],
   "source": [
    "crm = pd.merge(crm_levels, crm_data, how='left', on='Crm Cd').replace(np.nan, None)"
   ]
  },
  {
   "cell_type": "code",
   "execution_count": 20,
   "id": "adcec946-ccf7-46ef-a97f-878d92e2577d",
   "metadata": {},
   "outputs": [
    {
     "data": {
      "text/html": [
       "<div>\n",
       "<style scoped>\n",
       "    .dataframe tbody tr th:only-of-type {\n",
       "        vertical-align: middle;\n",
       "    }\n",
       "\n",
       "    .dataframe tbody tr th {\n",
       "        vertical-align: top;\n",
       "    }\n",
       "\n",
       "    .dataframe thead th {\n",
       "        text-align: right;\n",
       "    }\n",
       "</style>\n",
       "<table border=\"1\" class=\"dataframe\">\n",
       "  <thead>\n",
       "    <tr style=\"text-align: right;\">\n",
       "      <th></th>\n",
       "      <th>Crm Cd</th>\n",
       "      <th>Crm Cd Desc</th>\n",
       "      <th>Part 1-2</th>\n",
       "    </tr>\n",
       "  </thead>\n",
       "  <tbody>\n",
       "    <tr>\n",
       "      <th>0</th>\n",
       "      <td>110</td>\n",
       "      <td>CRIMINAL HOMICIDE</td>\n",
       "      <td>1</td>\n",
       "    </tr>\n",
       "    <tr>\n",
       "      <th>1</th>\n",
       "      <td>113</td>\n",
       "      <td>MANSLAUGHTER, NEGLIGENT</td>\n",
       "      <td>1</td>\n",
       "    </tr>\n",
       "    <tr>\n",
       "      <th>2</th>\n",
       "      <td>121</td>\n",
       "      <td>RAPE, FORCIBLE</td>\n",
       "      <td>1</td>\n",
       "    </tr>\n",
       "    <tr>\n",
       "      <th>3</th>\n",
       "      <td>122</td>\n",
       "      <td>RAPE, ATTEMPTED</td>\n",
       "      <td>1</td>\n",
       "    </tr>\n",
       "    <tr>\n",
       "      <th>4</th>\n",
       "      <td>210</td>\n",
       "      <td>ROBBERY</td>\n",
       "      <td>1</td>\n",
       "    </tr>\n",
       "    <tr>\n",
       "      <th>...</th>\n",
       "      <td>...</td>\n",
       "      <td>...</td>\n",
       "      <td>...</td>\n",
       "    </tr>\n",
       "    <tr>\n",
       "      <th>153</th>\n",
       "      <td>994</td>\n",
       "      <td>None</td>\n",
       "      <td>None</td>\n",
       "    </tr>\n",
       "    <tr>\n",
       "      <th>154</th>\n",
       "      <td>996</td>\n",
       "      <td>None</td>\n",
       "      <td>None</td>\n",
       "    </tr>\n",
       "    <tr>\n",
       "      <th>155</th>\n",
       "      <td>997</td>\n",
       "      <td>None</td>\n",
       "      <td>None</td>\n",
       "    </tr>\n",
       "    <tr>\n",
       "      <th>156</th>\n",
       "      <td>998</td>\n",
       "      <td>None</td>\n",
       "      <td>None</td>\n",
       "    </tr>\n",
       "    <tr>\n",
       "      <th>157</th>\n",
       "      <td>999</td>\n",
       "      <td>None</td>\n",
       "      <td>None</td>\n",
       "    </tr>\n",
       "  </tbody>\n",
       "</table>\n",
       "<p>158 rows × 3 columns</p>\n",
       "</div>"
      ],
      "text/plain": [
       "    Crm Cd              Crm Cd Desc Part 1-2\n",
       "0      110        CRIMINAL HOMICIDE        1\n",
       "1      113  MANSLAUGHTER, NEGLIGENT        1\n",
       "2      121           RAPE, FORCIBLE        1\n",
       "3      122          RAPE, ATTEMPTED        1\n",
       "4      210                  ROBBERY        1\n",
       "..     ...                      ...      ...\n",
       "153    994                     None     None\n",
       "154    996                     None     None\n",
       "155    997                     None     None\n",
       "156    998                     None     None\n",
       "157    999                     None     None\n",
       "\n",
       "[158 rows x 3 columns]"
      ]
     },
     "execution_count": 20,
     "metadata": {},
     "output_type": "execute_result"
    }
   ],
   "source": [
    "crm"
   ]
  },
  {
   "cell_type": "markdown",
   "id": "02696d4e-7b15-4199-a772-7ec1b7eb90a9",
   "metadata": {},
   "source": [
    "### Save Data Source"
   ]
  },
  {
   "cell_type": "code",
   "execution_count": 21,
   "id": "094a7a0b-3fcc-49fb-b9a1-a82ad0202978",
   "metadata": {},
   "outputs": [],
   "source": [
    "area.to_csv('_area.csv', index=False)"
   ]
  },
  {
   "cell_type": "code",
   "execution_count": 22,
   "id": "6a42178a-baa3-41ea-9b73-44f1193826ca",
   "metadata": {},
   "outputs": [],
   "source": [
    "premis.to_csv('_premis.csv', index=False)"
   ]
  },
  {
   "cell_type": "code",
   "execution_count": 23,
   "id": "579bf4ba-5359-44c2-a799-9cf91a447b90",
   "metadata": {},
   "outputs": [],
   "source": [
    "weapon.to_csv('_weapon.csv', index=False)"
   ]
  },
  {
   "cell_type": "code",
   "execution_count": 24,
   "id": "e63eb4f7-251a-49ec-91fb-d2a0310e8283",
   "metadata": {},
   "outputs": [],
   "source": [
    "status.to_csv('_status.csv', index=False)"
   ]
  },
  {
   "cell_type": "code",
   "execution_count": 25,
   "id": "a1220770-984e-4429-8bb2-5c38e2c81684",
   "metadata": {},
   "outputs": [],
   "source": [
    "crm.to_csv('_crm.csv', index=False)"
   ]
  },
  {
   "cell_type": "markdown",
   "id": "0e1020b7-677b-47bd-9751-9c549c7e2f1b",
   "metadata": {},
   "source": [
    "### Insert Scripts"
   ]
  },
  {
   "cell_type": "code",
   "execution_count": 26,
   "id": "fedcd7c7-2380-418f-99d5-beafcc58df71",
   "metadata": {},
   "outputs": [],
   "source": [
    "def inserts(file, table):\n",
    "    data = pd.read_csv(file)\n",
    "    insert_values = []\n",
    "    for index, row in data.iterrows():\n",
    "        values = []\n",
    "        for attribute in row:\n",
    "            att_val = \"NULL\" if pd.isna(attribute) else '\"'+str(attribute)+'\"'\n",
    "            values.append(att_val)\n",
    "        attribute_values = \"(\" + ','.join(values) + \")\";\n",
    "        insert_values.append(attribute_values);\n",
    "        cols = ','.join(data.columns).replace(' ', '_').replace('-', '_')\n",
    "    values = ','.join(insert_values)\n",
    "    sql = \"INSERT INTO \" + table + \" (\" + cols + \") VALUES \" + values + \";\";\n",
    "    filename = 'insert_' + table + '.sql'\n",
    "    with open(filename, \"w\") as file:\n",
    "        file.write(sql)"
   ]
  },
  {
   "cell_type": "code",
   "execution_count": 27,
   "id": "a0beb776-432d-480f-9ee7-c990f7e5d4d4",
   "metadata": {},
   "outputs": [],
   "source": [
    "inserts('_area.csv', 'Area')"
   ]
  },
  {
   "cell_type": "code",
   "execution_count": 31,
   "id": "446254dc-2bb0-4cd9-963d-46b7a4c656f9",
   "metadata": {},
   "outputs": [],
   "source": [
    "inserts('_crm.csv', 'Crime')"
   ]
  },
  {
   "cell_type": "code",
   "execution_count": 32,
   "id": "1119f8f6-3413-4b01-9860-3c5966af4a84",
   "metadata": {},
   "outputs": [],
   "source": [
    "inserts('_premis.csv', 'Premis')"
   ]
  },
  {
   "cell_type": "code",
   "execution_count": 33,
   "id": "2379cce6-572a-4061-860d-7a4b6cc7d600",
   "metadata": {},
   "outputs": [],
   "source": [
    "inserts('_weapon.csv', 'Weapon')"
   ]
  },
  {
   "cell_type": "code",
   "execution_count": 34,
   "id": "e901deb8-e5d1-41ce-a24d-c2af7c049287",
   "metadata": {},
   "outputs": [],
   "source": [
    "inserts('_status.csv', 'Status')"
   ]
  },
  {
   "cell_type": "code",
   "execution_count": 35,
   "id": "7d6053d2-656f-4b50-81cd-52fa0a4e07f5",
   "metadata": {},
   "outputs": [],
   "source": [
    "inserts('mocodes.csv', 'Mocodes')"
   ]
  },
  {
   "cell_type": "code",
   "execution_count": null,
   "id": "a84e3863-3821-4ec8-9d50-15aa228d32e8",
   "metadata": {},
   "outputs": [],
   "source": []
  },
  {
   "cell_type": "code",
   "execution_count": null,
   "id": "4f2662e0-549d-40af-9a07-e7665236835c",
   "metadata": {},
   "outputs": [],
   "source": []
  }
 ],
 "metadata": {
  "kernelspec": {
   "display_name": "Python 3 (ipykernel)",
   "language": "python",
   "name": "python3"
  },
  "language_info": {
   "codemirror_mode": {
    "name": "ipython",
    "version": 3
   },
   "file_extension": ".py",
   "mimetype": "text/x-python",
   "name": "python",
   "nbconvert_exporter": "python",
   "pygments_lexer": "ipython3",
   "version": "3.12.4"
  }
 },
 "nbformat": 4,
 "nbformat_minor": 5
}
