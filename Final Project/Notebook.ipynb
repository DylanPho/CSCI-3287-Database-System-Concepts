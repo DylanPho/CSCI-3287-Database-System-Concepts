{
 "cells": [
  {
   "cell_type": "code",
   "execution_count": null,
   "id": "81a46889-2790-4c67-9f1d-cc4393e41675",
   "metadata": {},
   "outputs": [],
   "source": [
    "import pandas as pd\n",
    "import numpy as np"
   ]
  },
  {
   "cell_type": "code",
   "execution_count": null,
   "id": "3237df8a-a1e3-4c14-94b8-5f283b9ccd98",
   "metadata": {},
   "outputs": [],
   "source": [
    "data = pd.read_csv('crime_data_1k.csv', dtype=str, na_values='')"
   ]
  },
  {
   "cell_type": "code",
   "execution_count": null,
   "id": "378c37e6-b876-4cbb-a471-d26d22fdfca3",
   "metadata": {},
   "outputs": [],
   "source": [
    "df = pd.DataFrame(data)"
   ]
  },
  {
   "cell_type": "code",
   "execution_count": null,
   "id": "89a44cb8-e89a-4143-8fc9-78bef188ff0c",
   "metadata": {},
   "outputs": [],
   "source": [
    "df.shape"
   ]
  },
  {
   "cell_type": "code",
   "execution_count": null,
   "id": "066a7fca-2656-4198-97b9-4da2bf903073",
   "metadata": {
    "jp-MarkdownHeadingCollapsed": true
   },
   "outputs": [],
   "source": [
    "print(df.dtypes)"
   ]
  },
  {
   "cell_type": "code",
   "execution_count": null,
   "id": "4aed62a6-4e97-402c-9d70-ee68876e976d",
   "metadata": {},
   "outputs": [],
   "source": [
    "df['Part 1-2'].value_counts(dropna=False)"
   ]
  },
  {
   "cell_type": "code",
   "execution_count": null,
   "id": "9b60436e-625d-42ab-888d-70992402ee32",
   "metadata": {},
   "outputs": [],
   "source": [
    "df"
   ]
  },
  {
   "cell_type": "code",
   "execution_count": null,
   "id": "da5529be-5765-4994-80b6-9335b4057052",
   "metadata": {},
   "outputs": [],
   "source": [
    "area = df[['AREA', 'AREA NAME']].drop_duplicates().sort_values(by='AREA').dropna(how='all').reset_index(drop=True)"
   ]
  },
  {
   "cell_type": "code",
   "execution_count": null,
   "id": "4f80bdae-f7d5-404e-8a55-9b9f6163e314",
   "metadata": {},
   "outputs": [],
   "source": [
    "area"
   ]
  },
  {
   "cell_type": "code",
   "execution_count": null,
   "id": "670cb678-1678-452a-ac0d-57fa90602f14",
   "metadata": {},
   "outputs": [],
   "source": [
    "crm = df[['Crm Cd', 'Crm Cd Desc']].drop_duplicates().sort_values(by='Crm Cd').dropna(how='all').reset_index(drop=True)"
   ]
  },
  {
   "cell_type": "code",
   "execution_count": null,
   "id": "2aea2ef0-05c5-4de5-b918-b61e020a0bab",
   "metadata": {},
   "outputs": [],
   "source": [
    "crm"
   ]
  },
  {
   "cell_type": "code",
   "execution_count": null,
   "id": "38d034d0-7367-42b0-a335-97b8c84f12d5",
   "metadata": {},
   "outputs": [],
   "source": [
    "premis = df[['Premis Cd', 'Premis Desc']].drop_duplicates().sort_values(by='Premis Cd').dropna(how='all').reset_index(drop=True)"
   ]
  },
  {
   "cell_type": "code",
   "execution_count": null,
   "id": "d288c0a0-8144-46f0-b0f3-4fa6ead7a3cc",
   "metadata": {},
   "outputs": [],
   "source": [
    "premis"
   ]
  },
  {
   "cell_type": "code",
   "execution_count": null,
   "id": "65bad630-d911-4a2a-b384-b4458ae1f101",
   "metadata": {},
   "outputs": [],
   "source": [
    "weapon = df[['Weapon Used Cd', 'Weapon Desc']].drop_duplicates().sort_values(by='Weapon Used Cd').dropna(how='all').reset_index(drop=True)"
   ]
  },
  {
   "cell_type": "code",
   "execution_count": null,
   "id": "80d69da4-37e5-44a2-8386-5631a1d298d8",
   "metadata": {},
   "outputs": [],
   "source": [
    "weapon"
   ]
  },
  {
   "cell_type": "code",
   "execution_count": null,
   "id": "b3e451ee-f71b-4e29-9b73-4c9807d771ed",
   "metadata": {},
   "outputs": [],
   "source": [
    "status = df[['Status', 'Status Desc']].drop_duplicates().sort_values(by='Status').dropna(how='all').reset_index(drop=True)"
   ]
  },
  {
   "cell_type": "code",
   "execution_count": null,
   "id": "c340ac5d-74db-4516-a8b8-11a16308d254",
   "metadata": {},
   "outputs": [],
   "source": [
    "status"
   ]
  },
  {
   "cell_type": "code",
   "execution_count": null,
   "id": "094a7a0b-3fcc-49fb-b9a1-a82ad0202978",
   "metadata": {},
   "outputs": [],
   "source": [
    "area.to_csv('_area.csv', index=False)"
   ]
  },
  {
   "cell_type": "code",
   "execution_count": null,
   "id": "a1220770-984e-4429-8bb2-5c38e2c81684",
   "metadata": {},
   "outputs": [],
   "source": [
    "crm.to_csv('_crm.csv', index=False)"
   ]
  },
  {
   "cell_type": "code",
   "execution_count": null,
   "id": "6a42178a-baa3-41ea-9b73-44f1193826ca",
   "metadata": {},
   "outputs": [],
   "source": [
    "premis.to_csv('_premis.csv', index=False)"
   ]
  },
  {
   "cell_type": "code",
   "execution_count": null,
   "id": "579bf4ba-5359-44c2-a799-9cf91a447b90",
   "metadata": {},
   "outputs": [],
   "source": [
    "weapon.to_csv('_weapon.csv', index=False)"
   ]
  },
  {
   "cell_type": "code",
   "execution_count": null,
   "id": "e63eb4f7-251a-49ec-91fb-d2a0310e8283",
   "metadata": {},
   "outputs": [],
   "source": [
    "status.to_csv('_status.csv', index=False)"
   ]
  },
  {
   "cell_type": "code",
   "execution_count": null,
   "id": "be090cbf-bd9d-4c6c-b2ef-a66fe57b0c75",
   "metadata": {},
   "outputs": [],
   "source": []
  }
 ],
 "metadata": {
  "kernelspec": {
   "display_name": "Python 3 (ipykernel)",
   "language": "python",
   "name": "python3"
  },
  "language_info": {
   "codemirror_mode": {
    "name": "ipython",
    "version": 3
   },
   "file_extension": ".py",
   "mimetype": "text/x-python",
   "name": "python",
   "nbconvert_exporter": "python",
   "pygments_lexer": "ipython3",
   "version": "3.12.4"
  }
 },
 "nbformat": 4,
 "nbformat_minor": 5
}
